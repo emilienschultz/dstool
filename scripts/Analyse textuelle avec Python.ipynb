{
 "cells": [
  {
   "cell_type": "markdown",
   "id": "30f21df9",
   "metadata": {},
   "source": [
    "# Analyse de contenu avec Python\n",
    "\n",
    "Dans certains cas, vous voulez maîtriser toutes les étapes de l'analyse."
   ]
  },
  {
   "cell_type": "markdown",
   "id": "5e80a319",
   "metadata": {},
   "source": [
    "## Chargement des bibliothèques et des données"
   ]
  },
  {
   "cell_type": "markdown",
   "id": "3e5c3e64",
   "metadata": {},
   "source": [
    "Les outils"
   ]
  },
  {
   "cell_type": "code",
   "execution_count": 1,
   "id": "cda10644",
   "metadata": {},
   "outputs": [],
   "source": [
    "import pandas as pd\n",
    "import spacy\n",
    "import matplotlib.pyplot as plt"
   ]
  },
  {
   "cell_type": "markdown",
   "id": "f77b0677",
   "metadata": {},
   "source": [
    "Et les données"
   ]
  },
  {
   "cell_type": "code",
   "execution_count": 3,
   "id": "e48fc4ae",
   "metadata": {},
   "outputs": [
    {
     "data": {
      "text/html": [
       "<div>\n",
       "<style scoped>\n",
       "    .dataframe tbody tr th:only-of-type {\n",
       "        vertical-align: middle;\n",
       "    }\n",
       "\n",
       "    .dataframe tbody tr th {\n",
       "        vertical-align: top;\n",
       "    }\n",
       "\n",
       "    .dataframe thead th {\n",
       "        text-align: right;\n",
       "    }\n",
       "</style>\n",
       "<table border=\"1\" class=\"dataframe\">\n",
       "  <thead>\n",
       "    <tr style=\"text-align: right;\">\n",
       "      <th></th>\n",
       "      <th>Date_raw</th>\n",
       "      <th>Titre_raw</th>\n",
       "      <th>Journal_raw</th>\n",
       "      <th>Contenu_raw</th>\n",
       "      <th>Auteur_raw</th>\n",
       "      <th>Date_mod</th>\n",
       "      <th>Titre_mod</th>\n",
       "      <th>Contenu_mod</th>\n",
       "      <th>Journal_mod</th>\n",
       "    </tr>\n",
       "  </thead>\n",
       "  <tbody>\n",
       "    <tr>\n",
       "      <th>0</th>\n",
       "      <td>\\nSciences et éthique,         mardi 4 mars 20...</td>\n",
       "      <td>\\nENVIRONNEMENT. L'outarde canepetière et le T...</td>\n",
       "      <td>\\n        La Croix, no. 39825</td>\n",
       "      <td>\\n\\nArmé de ses jumelles, Thomas Menut balaie ...</td>\n",
       "      <td>NaN</td>\n",
       "      <td>2014-03-04</td>\n",
       "      <td>ENVIRONNEMENT. L'outarde canepetière et le TGV...</td>\n",
       "      <td>Armé de ses jumelles, Thomas Menut balaie du r...</td>\n",
       "      <td>La Croix</td>\n",
       "    </tr>\n",
       "    <tr>\n",
       "      <th>1</th>\n",
       "      <td>\\nHippisme,         samedi 18 juillet 2015 422...</td>\n",
       "      <td>\\n[1...]\\n</td>\n",
       "      <td>\\n        Aujourd'hui en France               ...</td>\n",
       "      <td>\\n\\n1  ARTISTE TIME59   M. Barzalona\\n1p 1p 5p...</td>\n",
       "      <td>NaN</td>\n",
       "      <td>2015-07-18</td>\n",
       "      <td>[1...]</td>\n",
       "      <td>1  ARTISTE TIME59   M. Barzalona\\n1p 1p 5p 3p ...</td>\n",
       "      <td>Aujourd'hui en France</td>\n",
       "    </tr>\n",
       "    <tr>\n",
       "      <th>2</th>\n",
       "      <td>\\nInternational,         mercredi 13 janvier 2...</td>\n",
       "      <td>\\nEn Algérie, le ministre et les lingots d'or ...</td>\n",
       "      <td>\\n        Le Monde</td>\n",
       "      <td>\\n\\nExpéditifs, les procès d'anciens dignitair...</td>\n",
       "      <td>NaN</td>\n",
       "      <td>2021-01-13</td>\n",
       "      <td>En Algérie, le ministre et les lingots d'or de...</td>\n",
       "      <td>Expéditifs, les procès d'anciens dignitaires a...</td>\n",
       "      <td>Le Monde</td>\n",
       "    </tr>\n",
       "    <tr>\n",
       "      <th>3</th>\n",
       "      <td>\\nSOCIÉTÉ,         samedi 9 octobre 1999 804 m...</td>\n",
       "      <td>\\nL'outarde se refait une santé chez les céréa...</td>\n",
       "      <td>\\n        Libération</td>\n",
       "      <td>\\n\\nVienne et Maine-et-Loire, envoyée spéciale...</td>\n",
       "      <td>NaN</td>\n",
       "      <td>1999-10-09</td>\n",
       "      <td>L'outarde se refait une santé chez les céréali...</td>\n",
       "      <td>Vienne et Maine-et-Loire, envoyée spéciale.   ...</td>\n",
       "      <td>Libération</td>\n",
       "    </tr>\n",
       "    <tr>\n",
       "      <th>4</th>\n",
       "      <td>\\nScience &amp; techno,         mercredi 17 décemb...</td>\n",
       "      <td>\\nRendez-vous zoologie\\nLa fausse  outarde kam...</td>\n",
       "      <td>\\n        Le Monde</td>\n",
       "      <td>\\n\\nFin novembre, dans le nord de l'Afghanista...</td>\n",
       "      <td>NaN</td>\n",
       "      <td>2014-12-17</td>\n",
       "      <td>Rendez-vous zoologie\\nLa fausse  outarde kamikaze</td>\n",
       "      <td>Fin novembre, dans le nord de l'Afghanistan, d...</td>\n",
       "      <td>Le Monde</td>\n",
       "    </tr>\n",
       "  </tbody>\n",
       "</table>\n",
       "</div>"
      ],
      "text/plain": [
       "                                            Date_raw  \\\n",
       "0  \\nSciences et éthique,         mardi 4 mars 20...   \n",
       "1  \\nHippisme,         samedi 18 juillet 2015 422...   \n",
       "2  \\nInternational,         mercredi 13 janvier 2...   \n",
       "3  \\nSOCIÉTÉ,         samedi 9 octobre 1999 804 m...   \n",
       "4  \\nScience & techno,         mercredi 17 décemb...   \n",
       "\n",
       "                                           Titre_raw  \\\n",
       "0  \\nENVIRONNEMENT. L'outarde canepetière et le T...   \n",
       "1                                         \\n[1...]\\n   \n",
       "2  \\nEn Algérie, le ministre et les lingots d'or ...   \n",
       "3  \\nL'outarde se refait une santé chez les céréa...   \n",
       "4  \\nRendez-vous zoologie\\nLa fausse  outarde kam...   \n",
       "\n",
       "                                         Journal_raw  \\\n",
       "0  \\n        La Croix, no. 39825                       \n",
       "1  \\n        Aujourd'hui en France               ...   \n",
       "2             \\n        Le Monde                       \n",
       "3           \\n        Libération                       \n",
       "4             \\n        Le Monde                       \n",
       "\n",
       "                                         Contenu_raw  Auteur_raw    Date_mod  \\\n",
       "0  \\n\\nArmé de ses jumelles, Thomas Menut balaie ...         NaN  2014-03-04   \n",
       "1  \\n\\n1  ARTISTE TIME59   M. Barzalona\\n1p 1p 5p...         NaN  2015-07-18   \n",
       "2  \\n\\nExpéditifs, les procès d'anciens dignitair...         NaN  2021-01-13   \n",
       "3  \\n\\nVienne et Maine-et-Loire, envoyée spéciale...         NaN  1999-10-09   \n",
       "4  \\n\\nFin novembre, dans le nord de l'Afghanista...         NaN  2014-12-17   \n",
       "\n",
       "                                           Titre_mod  \\\n",
       "0  ENVIRONNEMENT. L'outarde canepetière et le TGV...   \n",
       "1                                             [1...]   \n",
       "2  En Algérie, le ministre et les lingots d'or de...   \n",
       "3  L'outarde se refait une santé chez les céréali...   \n",
       "4  Rendez-vous zoologie\\nLa fausse  outarde kamikaze   \n",
       "\n",
       "                                         Contenu_mod            Journal_mod  \n",
       "0  Armé de ses jumelles, Thomas Menut balaie du r...               La Croix  \n",
       "1  1  ARTISTE TIME59   M. Barzalona\\n1p 1p 5p 3p ...  Aujourd'hui en France  \n",
       "2  Expéditifs, les procès d'anciens dignitaires a...               Le Monde  \n",
       "3  Vienne et Maine-et-Loire, envoyée spéciale.   ...             Libération  \n",
       "4  Fin novembre, dans le nord de l'Afghanistan, d...               Le Monde  "
      ]
     },
     "execution_count": 3,
     "metadata": {},
     "output_type": "execute_result"
    }
   ],
   "source": [
    "data = pd.read_csv(\"../data/europresse_national_outarde.csv\")\n",
    "data.head()"
   ]
  },
  {
   "cell_type": "markdown",
   "id": "6c1eea65",
   "metadata": {},
   "source": [
    "## Mise en forme"
   ]
  },
  {
   "cell_type": "markdown",
   "id": "4becdedb",
   "metadata": {},
   "source": [
    "- ajouter une colonne qui correspond au nombre de mots\n",
    "- filtrer uniquement les colonnes avec 2 fois outarde dedans"
   ]
  },
  {
   "cell_type": "code",
   "execution_count": 8,
   "id": "2f8fd2f9",
   "metadata": {},
   "outputs": [],
   "source": [
    "data[\"nb_mots\"] = data[\"Contenu_mod\"].apply(lambda x : len(x.split()))\n",
    "data[\"nb_outarde\"] = data[\"Contenu_mod\"].apply(lambda x : x.lower().count(\"outarde\"))\n",
    "data_mod = data[data[\"nb_outarde\"]>1]"
   ]
  },
  {
   "cell_type": "markdown",
   "id": "fc6c59eb",
   "metadata": {},
   "source": [
    "## Faire des explorations/visualisations"
   ]
  },
  {
   "cell_type": "code",
   "execution_count": 19,
   "id": "023c7f7a",
   "metadata": {},
   "outputs": [
    {
     "data": {
      "text/plain": [
       "<Axes: ylabel='Journal_mod'>"
      ]
     },
     "execution_count": 19,
     "metadata": {},
     "output_type": "execute_result"
    },
    {
     "data": {
      "image/png": "[encoded data removed]",
      "text/plain": [
       "<Figure size 640x480 with 1 Axes>"
      ]
     },
     "metadata": {},
     "output_type": "display_data"
    }
   ],
   "source": [
    "data[\"Journal_mod\"].value_counts().plot(kind=\"barh\")"
   ]
  },
  {
   "cell_type": "code",
   "execution_count": 12,
   "id": "72cd8e88",
   "metadata": {},
   "outputs": [
    {
     "data": {
      "text/plain": [
       "<Axes: >"
      ]
     },
     "execution_count": 12,
     "metadata": {},
     "output_type": "execute_result"
    },
    {
     "data": {
      "image/png": "[encoded data removed]",
      "text/plain": [
       "<Figure size 500x200 with 1 Axes>"
      ]
     },
     "metadata": {},
     "output_type": "display_data"
    }
   ],
   "source": [
    "data_mod[\"nb_mots\"].hist(bins=10,figsize=(5,2))"
   ]
  },
  {
   "cell_type": "code",
   "execution_count": 13,
   "id": "4c58ff13",
   "metadata": {},
   "outputs": [
    {
     "data": {
      "text/plain": [
       "<Axes: >"
      ]
     },
     "execution_count": 13,
     "metadata": {},
     "output_type": "execute_result"
    },
    {
     "data": {
      "image/png": "[encoded data removed]",
      "text/plain": [
       "<Figure size 500x200 with 1 Axes>"
      ]
     },
     "metadata": {},
     "output_type": "display_data"
    }
   ],
   "source": [
    "data_mod[\"nb_outarde\"].hist(bins=10,figsize=(5,2))"
   ]
  },
  {
   "cell_type": "code",
   "execution_count": 14,
   "id": "d4b3cc1f",
   "metadata": {},
   "outputs": [
    {
     "data": {
      "text/html": [
       "<div>\n",
       "<style scoped>\n",
       "    .dataframe tbody tr th:only-of-type {\n",
       "        vertical-align: middle;\n",
       "    }\n",
       "\n",
       "    .dataframe tbody tr th {\n",
       "        vertical-align: top;\n",
       "    }\n",
       "\n",
       "    .dataframe thead th {\n",
       "        text-align: right;\n",
       "    }\n",
       "</style>\n",
       "<table border=\"1\" class=\"dataframe\">\n",
       "  <thead>\n",
       "    <tr style=\"text-align: right;\">\n",
       "      <th></th>\n",
       "      <th>Date_raw</th>\n",
       "      <th>Titre_raw</th>\n",
       "      <th>Journal_raw</th>\n",
       "      <th>Contenu_raw</th>\n",
       "      <th>Auteur_raw</th>\n",
       "      <th>Date_mod</th>\n",
       "      <th>Titre_mod</th>\n",
       "      <th>Contenu_mod</th>\n",
       "      <th>Journal_mod</th>\n",
       "      <th>nb_mots</th>\n",
       "      <th>nb_outarde</th>\n",
       "    </tr>\n",
       "  </thead>\n",
       "  <tbody>\n",
       "    <tr>\n",
       "      <th>3</th>\n",
       "      <td>\\nSOCIÉTÉ,         samedi 9 octobre 1999 804 m...</td>\n",
       "      <td>\\nL'outarde se refait une santé chez les céréa...</td>\n",
       "      <td>\\n        Libération</td>\n",
       "      <td>\\n\\nVienne et Maine-et-Loire, envoyée spéciale...</td>\n",
       "      <td>NaN</td>\n",
       "      <td>1999-10-09</td>\n",
       "      <td>L'outarde se refait une santé chez les céréali...</td>\n",
       "      <td>Vienne et Maine-et-Loire, envoyée spéciale.   ...</td>\n",
       "      <td>Libération</td>\n",
       "      <td>1084</td>\n",
       "      <td>16</td>\n",
       "    </tr>\n",
       "  </tbody>\n",
       "</table>\n",
       "</div>"
      ],
      "text/plain": [
       "                                            Date_raw  \\\n",
       "3  \\nSOCIÉTÉ,         samedi 9 octobre 1999 804 m...   \n",
       "\n",
       "                                           Titre_raw  \\\n",
       "3  \\nL'outarde se refait une santé chez les céréa...   \n",
       "\n",
       "                                Journal_raw  \\\n",
       "3  \\n        Libération                       \n",
       "\n",
       "                                         Contenu_raw  Auteur_raw    Date_mod  \\\n",
       "3  \\n\\nVienne et Maine-et-Loire, envoyée spéciale...         NaN  1999-10-09   \n",
       "\n",
       "                                           Titre_mod  \\\n",
       "3  L'outarde se refait une santé chez les céréali...   \n",
       "\n",
       "                                         Contenu_mod Journal_mod  nb_mots  \\\n",
       "3  Vienne et Maine-et-Loire, envoyée spéciale.   ...  Libération     1084   \n",
       "\n",
       "   nb_outarde  \n",
       "3          16  "
      ]
     },
     "execution_count": 14,
     "metadata": {},
     "output_type": "execute_result"
    }
   ],
   "source": [
    "data[data[\"nb_outarde\"]>10]"
   ]
  },
  {
   "cell_type": "markdown",
   "id": "0cba38da",
   "metadata": {},
   "source": [
    "## Analyse plus poussée"
   ]
  },
  {
   "cell_type": "markdown",
   "id": "3c940aca",
   "metadata": {},
   "source": [
    "Modèle de langage"
   ]
  },
  {
   "cell_type": "code",
   "execution_count": 20,
   "id": "81d39db8",
   "metadata": {},
   "outputs": [],
   "source": [
    "nlp = spacy.load(\"fr_core_news_md\")"
   ]
  },
  {
   "cell_type": "markdown",
   "id": "32afb065",
   "metadata": {},
   "source": [
    "Ne garder que les noms du texte"
   ]
  },
  {
   "cell_type": "code",
   "execution_count": 25,
   "id": "94da59c3",
   "metadata": {},
   "outputs": [
    {
     "name": "stdout",
     "output_type": "stream",
     "text": [
      "Ceci PRON\n",
      "est AUX\n",
      "une DET\n",
      "phrase NOUN\n"
     ]
    }
   ],
   "source": [
    "t = nlp(\"Ceci est une phrase\")\n",
    "for i in t:\n",
    "    print(i,i.pos_)"
   ]
  },
  {
   "cell_type": "markdown",
   "id": "988d1fd5",
   "metadata": {},
   "source": [
    "Créer une fonction qui filtre que les noms"
   ]
  },
  {
   "cell_type": "code",
   "execution_count": 45,
   "id": "0e13c6ce",
   "metadata": {},
   "outputs": [],
   "source": [
    "def filtrer_noms(phrase):\n",
    "    return [i.lemma_ for i in nlp(phrase) if i.pos_==\"NOUN\" and len(i)>3]"
   ]
  },
  {
   "cell_type": "markdown",
   "id": "21fa0670",
   "metadata": {},
   "source": [
    "Appliquer au texte"
   ]
  },
  {
   "cell_type": "code",
   "execution_count": 46,
   "id": "21df0bf3",
   "metadata": {},
   "outputs": [],
   "source": [
    "data[\"noms\"] = data[\"Contenu_mod\"].apply(filtrer_noms)"
   ]
  },
  {
   "cell_type": "code",
   "execution_count": 47,
   "id": "b544de32",
   "metadata": {},
   "outputs": [
    {
     "data": {
      "text/plain": [
       "année         89\n",
       "gène          69\n",
       "espèce        68\n",
       "chromosome    63\n",
       "homme         60\n",
       "étude         54\n",
       "oiseau        54\n",
       "temps         49\n",
       "projet        39\n",
       "terre         38\n",
       "jour          38\n",
       "million       38\n",
       "monde         37\n",
       "fois          34\n",
       "heure         33\n",
       "zone          33\n",
       "recherche     32\n",
       "pays          31\n",
       "impact        30\n",
       "nature        30\n",
       "Name: count, dtype: int64"
      ]
     },
     "execution_count": 47,
     "metadata": {},
     "output_type": "execute_result"
    }
   ],
   "source": [
    "le_monde = []\n",
    "for t in list(data[data[\"Journal_mod\"]==\"Le Monde\"][\"noms\"]):\n",
    "    le_monde+=t\n",
    "pd.Series(le_monde).value_counts()[0:20]"
   ]
  },
  {
   "cell_type": "code",
   "execution_count": 49,
   "id": "8cec7afc",
   "metadata": {},
   "outputs": [
    {
     "data": {
      "text/plain": [
       "outarde         34\n",
       "criquet         32\n",
       "espèce          31\n",
       "oiseau          29\n",
       "terre           21\n",
       "agriculteur     20\n",
       "hectare         18\n",
       "année           17\n",
       "animal          16\n",
       "nature          16\n",
       "homme           14\n",
       "programme       13\n",
       "monde           13\n",
       "site            13\n",
       "population      12\n",
       "fois            12\n",
       "projet          12\n",
       "insecte         11\n",
       "conservation    11\n",
       "21h05           11\n",
       "Name: count, dtype: int64"
      ]
     },
     "execution_count": 49,
     "metadata": {},
     "output_type": "execute_result"
    }
   ],
   "source": [
    "liberation = []\n",
    "for t in list(data[data[\"Journal_mod\"]==\"Libération\"][\"noms\"]):\n",
    "    liberation+=t\n",
    "pd.Series(liberation).value_counts()[0:20]"
   ]
  },
  {
   "cell_type": "markdown",
   "id": "b6d73f13",
   "metadata": {},
   "source": [
    "Et aller plus loin ..."
   ]
  }
 ],
 "metadata": {
  "kernelspec": {
   "display_name": "Python 3 (ipykernel)",
   "language": "python",
   "name": "python3"
  },
  "language_info": {
   "codemirror_mode": {
    "name": "ipython",
    "version": 3
   },
   "file_extension": ".py",
   "mimetype": "text/x-python",
   "name": "python",
   "nbconvert_exporter": "python",
   "pygments_lexer": "ipython3",
   "version": "3.10.9"
  }
 },
 "nbformat": 4,
 "nbformat_minor": 5
}
